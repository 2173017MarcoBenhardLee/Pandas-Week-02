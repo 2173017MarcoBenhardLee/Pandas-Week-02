{
 "cells": [
  {
   "cell_type": "markdown",
   "id": "d53b5f38",
   "metadata": {},
   "source": [
    "Menghapus missing values"
   ]
  },
  {
   "cell_type": "code",
   "execution_count": 1,
   "id": "2c56c2e7",
   "metadata": {},
   "outputs": [
    {
     "name": "stdout",
     "output_type": "stream",
     "text": [
      "1.3.4\n"
     ]
    }
   ],
   "source": [
    "import pandas as pd\n",
    "\n",
    "print(pd.__version__)"
   ]
  },
  {
   "cell_type": "code",
   "execution_count": 3,
   "id": "31e53a76",
   "metadata": {},
   "outputs": [
    {
     "data": {
      "text/html": [
       "<div>\n",
       "<style scoped>\n",
       "    .dataframe tbody tr th:only-of-type {\n",
       "        vertical-align: middle;\n",
       "    }\n",
       "\n",
       "    .dataframe tbody tr th {\n",
       "        vertical-align: top;\n",
       "    }\n",
       "\n",
       "    .dataframe thead th {\n",
       "        text-align: right;\n",
       "    }\n",
       "</style>\n",
       "<table border=\"1\" class=\"dataframe\">\n",
       "  <thead>\n",
       "    <tr style=\"text-align: right;\">\n",
       "      <th></th>\n",
       "      <th>index</th>\n",
       "      <th>A</th>\n",
       "      <th>B</th>\n",
       "      <th>C</th>\n",
       "      <th>D</th>\n",
       "    </tr>\n",
       "  </thead>\n",
       "  <tbody>\n",
       "    <tr>\n",
       "      <th>0</th>\n",
       "      <td>oU9YjpDdjI</td>\n",
       "      <td>-2.660449</td>\n",
       "      <td>-1.424582</td>\n",
       "      <td>-0.560228</td>\n",
       "      <td>-0.098609</td>\n",
       "    </tr>\n",
       "    <tr>\n",
       "      <th>1</th>\n",
       "      <td>Ij44MjvlYd</td>\n",
       "      <td>-0.830475</td>\n",
       "      <td>1.068214</td>\n",
       "      <td>-0.845604</td>\n",
       "      <td>-0.266647</td>\n",
       "    </tr>\n",
       "    <tr>\n",
       "      <th>2</th>\n",
       "      <td>6rIkoZUkUe</td>\n",
       "      <td>-0.170802</td>\n",
       "      <td>0.571047</td>\n",
       "      <td>0.151022</td>\n",
       "      <td>-0.685004</td>\n",
       "    </tr>\n",
       "    <tr>\n",
       "      <th>3</th>\n",
       "      <td>quVgpVq639</td>\n",
       "      <td>1.214204</td>\n",
       "      <td>1.418692</td>\n",
       "      <td>-1.139704</td>\n",
       "      <td>0.835474</td>\n",
       "    </tr>\n",
       "    <tr>\n",
       "      <th>4</th>\n",
       "      <td>MYYwml5RZX</td>\n",
       "      <td>0.855391</td>\n",
       "      <td>-0.338424</td>\n",
       "      <td>-0.315951</td>\n",
       "      <td>-1.075224</td>\n",
       "    </tr>\n",
       "  </tbody>\n",
       "</table>\n",
       "</div>"
      ],
      "text/plain": [
       "        index         A         B         C         D\n",
       "0  oU9YjpDdjI -2.660449 -1.424582 -0.560228 -0.098609\n",
       "1  Ij44MjvlYd -0.830475  1.068214 -0.845604 -0.266647\n",
       "2  6rIkoZUkUe -0.170802  0.571047  0.151022 -0.685004\n",
       "3  quVgpVq639  1.214204  1.418692 -1.139704  0.835474\n",
       "4  MYYwml5RZX  0.855391 -0.338424 -0.315951 -1.075224"
      ]
     },
     "execution_count": 3,
     "metadata": {},
     "output_type": "execute_result"
    }
   ],
   "source": [
    "df = pd.util.testing.makeMissingDataframe().reset_index() \n",
    "df.head() # .head() = menampilkan 5 data pertama saja"
   ]
  },
  {
   "cell_type": "markdown",
   "id": "66bca626",
   "metadata": {},
   "source": [
    "Mengubah index tabel "
   ]
  },
  {
   "cell_type": "code",
   "execution_count": 6,
   "id": "4d42c6bb",
   "metadata": {},
   "outputs": [
    {
     "data": {
      "text/html": [
       "<div>\n",
       "<style scoped>\n",
       "    .dataframe tbody tr th:only-of-type {\n",
       "        vertical-align: middle;\n",
       "    }\n",
       "\n",
       "    .dataframe tbody tr th {\n",
       "        vertical-align: top;\n",
       "    }\n",
       "\n",
       "    .dataframe thead th {\n",
       "        text-align: right;\n",
       "    }\n",
       "</style>\n",
       "<table border=\"1\" class=\"dataframe\">\n",
       "  <thead>\n",
       "    <tr style=\"text-align: right;\">\n",
       "      <th></th>\n",
       "      <th>Z</th>\n",
       "      <th>A</th>\n",
       "      <th>B</th>\n",
       "      <th>C</th>\n",
       "      <th>D</th>\n",
       "    </tr>\n",
       "  </thead>\n",
       "  <tbody>\n",
       "    <tr>\n",
       "      <th>0</th>\n",
       "      <td>oU9YjpDdjI</td>\n",
       "      <td>-2.660449</td>\n",
       "      <td>-1.424582</td>\n",
       "      <td>-0.560228</td>\n",
       "      <td>-0.098609</td>\n",
       "    </tr>\n",
       "    <tr>\n",
       "      <th>1</th>\n",
       "      <td>Ij44MjvlYd</td>\n",
       "      <td>-0.830475</td>\n",
       "      <td>1.068214</td>\n",
       "      <td>-0.845604</td>\n",
       "      <td>-0.266647</td>\n",
       "    </tr>\n",
       "    <tr>\n",
       "      <th>2</th>\n",
       "      <td>6rIkoZUkUe</td>\n",
       "      <td>-0.170802</td>\n",
       "      <td>0.571047</td>\n",
       "      <td>0.151022</td>\n",
       "      <td>-0.685004</td>\n",
       "    </tr>\n",
       "    <tr>\n",
       "      <th>3</th>\n",
       "      <td>quVgpVq639</td>\n",
       "      <td>1.214204</td>\n",
       "      <td>1.418692</td>\n",
       "      <td>-1.139704</td>\n",
       "      <td>0.835474</td>\n",
       "    </tr>\n",
       "    <tr>\n",
       "      <th>4</th>\n",
       "      <td>MYYwml5RZX</td>\n",
       "      <td>0.855391</td>\n",
       "      <td>-0.338424</td>\n",
       "      <td>-0.315951</td>\n",
       "      <td>-1.075224</td>\n",
       "    </tr>\n",
       "  </tbody>\n",
       "</table>\n",
       "</div>"
      ],
      "text/plain": [
       "            Z         A         B         C         D\n",
       "0  oU9YjpDdjI -2.660449 -1.424582 -0.560228 -0.098609\n",
       "1  Ij44MjvlYd -0.830475  1.068214 -0.845604 -0.266647\n",
       "2  6rIkoZUkUe -0.170802  0.571047  0.151022 -0.685004\n",
       "3  quVgpVq639  1.214204  1.418692 -1.139704  0.835474\n",
       "4  MYYwml5RZX  0.855391 -0.338424 -0.315951 -1.075224"
      ]
     },
     "execution_count": 6,
     "metadata": {},
     "output_type": "execute_result"
    }
   ],
   "source": [
    "df = df.rename(columns={'index' : 'Z'})\n",
    "df.head()"
   ]
  },
  {
   "cell_type": "markdown",
   "id": "8e9b6a51",
   "metadata": {},
   "source": [
    "Membuat copy dari data frame di atas"
   ]
  },
  {
   "cell_type": "code",
   "execution_count": 7,
   "id": "9bdd9431",
   "metadata": {},
   "outputs": [],
   "source": [
    "df_backup = df.copy(deep=True)"
   ]
  },
  {
   "cell_type": "markdown",
   "id": "af78d7a2",
   "metadata": {},
   "source": [
    "Menghapus (Drop) setiap kolom yang mengandung missing values"
   ]
  },
  {
   "cell_type": "code",
   "execution_count": 8,
   "id": "711c5ccf",
   "metadata": {},
   "outputs": [
    {
     "data": {
      "text/html": [
       "<div>\n",
       "<style scoped>\n",
       "    .dataframe tbody tr th:only-of-type {\n",
       "        vertical-align: middle;\n",
       "    }\n",
       "\n",
       "    .dataframe tbody tr th {\n",
       "        vertical-align: top;\n",
       "    }\n",
       "\n",
       "    .dataframe thead th {\n",
       "        text-align: right;\n",
       "    }\n",
       "</style>\n",
       "<table border=\"1\" class=\"dataframe\">\n",
       "  <thead>\n",
       "    <tr style=\"text-align: right;\">\n",
       "      <th></th>\n",
       "      <th>Z</th>\n",
       "    </tr>\n",
       "  </thead>\n",
       "  <tbody>\n",
       "    <tr>\n",
       "      <th>0</th>\n",
       "      <td>oU9YjpDdjI</td>\n",
       "    </tr>\n",
       "    <tr>\n",
       "      <th>1</th>\n",
       "      <td>Ij44MjvlYd</td>\n",
       "    </tr>\n",
       "    <tr>\n",
       "      <th>2</th>\n",
       "      <td>6rIkoZUkUe</td>\n",
       "    </tr>\n",
       "    <tr>\n",
       "      <th>3</th>\n",
       "      <td>quVgpVq639</td>\n",
       "    </tr>\n",
       "    <tr>\n",
       "      <th>4</th>\n",
       "      <td>MYYwml5RZX</td>\n",
       "    </tr>\n",
       "  </tbody>\n",
       "</table>\n",
       "</div>"
      ],
      "text/plain": [
       "            Z\n",
       "0  oU9YjpDdjI\n",
       "1  Ij44MjvlYd\n",
       "2  6rIkoZUkUe\n",
       "3  quVgpVq639\n",
       "4  MYYwml5RZX"
      ]
     },
     "execution_count": 8,
     "metadata": {},
     "output_type": "execute_result"
    }
   ],
   "source": [
    "df = df.dropna(axis='columns') #menghapus kolom\n",
    "df.head()\n",
    "\n",
    "#akan menghapus kolom jika mengandung missing values"
   ]
  },
  {
   "cell_type": "markdown",
   "id": "e07fe289",
   "metadata": {},
   "source": [
    "Menghapus(Drop) setiap baris yang mengandung missing values"
   ]
  },
  {
   "cell_type": "code",
   "execution_count": 9,
   "id": "41e3cc52",
   "metadata": {},
   "outputs": [
    {
     "data": {
      "text/html": [
       "<div>\n",
       "<style scoped>\n",
       "    .dataframe tbody tr th:only-of-type {\n",
       "        vertical-align: middle;\n",
       "    }\n",
       "\n",
       "    .dataframe tbody tr th {\n",
       "        vertical-align: top;\n",
       "    }\n",
       "\n",
       "    .dataframe thead th {\n",
       "        text-align: right;\n",
       "    }\n",
       "</style>\n",
       "<table border=\"1\" class=\"dataframe\">\n",
       "  <thead>\n",
       "    <tr style=\"text-align: right;\">\n",
       "      <th></th>\n",
       "      <th>Z</th>\n",
       "      <th>A</th>\n",
       "      <th>B</th>\n",
       "      <th>C</th>\n",
       "      <th>D</th>\n",
       "    </tr>\n",
       "  </thead>\n",
       "  <tbody>\n",
       "    <tr>\n",
       "      <th>0</th>\n",
       "      <td>oU9YjpDdjI</td>\n",
       "      <td>-2.660449</td>\n",
       "      <td>-1.424582</td>\n",
       "      <td>-0.560228</td>\n",
       "      <td>-0.098609</td>\n",
       "    </tr>\n",
       "    <tr>\n",
       "      <th>1</th>\n",
       "      <td>Ij44MjvlYd</td>\n",
       "      <td>-0.830475</td>\n",
       "      <td>1.068214</td>\n",
       "      <td>-0.845604</td>\n",
       "      <td>-0.266647</td>\n",
       "    </tr>\n",
       "    <tr>\n",
       "      <th>2</th>\n",
       "      <td>6rIkoZUkUe</td>\n",
       "      <td>-0.170802</td>\n",
       "      <td>0.571047</td>\n",
       "      <td>0.151022</td>\n",
       "      <td>-0.685004</td>\n",
       "    </tr>\n",
       "    <tr>\n",
       "      <th>3</th>\n",
       "      <td>quVgpVq639</td>\n",
       "      <td>1.214204</td>\n",
       "      <td>1.418692</td>\n",
       "      <td>-1.139704</td>\n",
       "      <td>0.835474</td>\n",
       "    </tr>\n",
       "    <tr>\n",
       "      <th>4</th>\n",
       "      <td>MYYwml5RZX</td>\n",
       "      <td>0.855391</td>\n",
       "      <td>-0.338424</td>\n",
       "      <td>-0.315951</td>\n",
       "      <td>-1.075224</td>\n",
       "    </tr>\n",
       "  </tbody>\n",
       "</table>\n",
       "</div>"
      ],
      "text/plain": [
       "            Z         A         B         C         D\n",
       "0  oU9YjpDdjI -2.660449 -1.424582 -0.560228 -0.098609\n",
       "1  Ij44MjvlYd -0.830475  1.068214 -0.845604 -0.266647\n",
       "2  6rIkoZUkUe -0.170802  0.571047  0.151022 -0.685004\n",
       "3  quVgpVq639  1.214204  1.418692 -1.139704  0.835474\n",
       "4  MYYwml5RZX  0.855391 -0.338424 -0.315951 -1.075224"
      ]
     },
     "execution_count": 9,
     "metadata": {},
     "output_type": "execute_result"
    }
   ],
   "source": [
    "df = df_backup.copy(deep=True)\n",
    "df = df.dropna(axis='rows')\n",
    "df.head()\n",
    "\n",
    "#akan menghapus baris jika mengandung missing values"
   ]
  },
  {
   "cell_type": "markdown",
   "id": "349fc34b",
   "metadata": {},
   "source": [
    "Persentase missing values untuk tiap kolom"
   ]
  },
  {
   "cell_type": "code",
   "execution_count": 10,
   "id": "90f7ca7a",
   "metadata": {},
   "outputs": [
    {
     "data": {
      "text/plain": [
       "Z    0.000000\n",
       "A    0.066667\n",
       "B    0.066667\n",
       "C    0.133333\n",
       "D    0.133333\n",
       "dtype: float64"
      ]
     },
     "execution_count": 10,
     "metadata": {},
     "output_type": "execute_result"
    }
   ],
   "source": [
    "df = df_backup.copy(deep=True)\n",
    "df.isna().mean() \n",
    "\n",
    "#mengumpulkan semua missing value untuk setiap kolom pada Data frame dan cari persentase / rata-rata menggunakan .mean()"
   ]
  },
  {
   "cell_type": "markdown",
   "id": "b9d19783",
   "metadata": {},
   "source": [
    "Menghapus(drop) setiap kolom yang mengandung missing values berdasarkan threshold"
   ]
  },
  {
   "cell_type": "code",
   "execution_count": 11,
   "id": "bc51b245",
   "metadata": {},
   "outputs": [
    {
     "data": {
      "text/html": [
       "<div>\n",
       "<style scoped>\n",
       "    .dataframe tbody tr th:only-of-type {\n",
       "        vertical-align: middle;\n",
       "    }\n",
       "\n",
       "    .dataframe tbody tr th {\n",
       "        vertical-align: top;\n",
       "    }\n",
       "\n",
       "    .dataframe thead th {\n",
       "        text-align: right;\n",
       "    }\n",
       "</style>\n",
       "<table border=\"1\" class=\"dataframe\">\n",
       "  <thead>\n",
       "    <tr style=\"text-align: right;\">\n",
       "      <th></th>\n",
       "      <th>Z</th>\n",
       "      <th>A</th>\n",
       "      <th>B</th>\n",
       "    </tr>\n",
       "  </thead>\n",
       "  <tbody>\n",
       "    <tr>\n",
       "      <th>0</th>\n",
       "      <td>oU9YjpDdjI</td>\n",
       "      <td>-2.660449</td>\n",
       "      <td>-1.424582</td>\n",
       "    </tr>\n",
       "    <tr>\n",
       "      <th>1</th>\n",
       "      <td>Ij44MjvlYd</td>\n",
       "      <td>-0.830475</td>\n",
       "      <td>1.068214</td>\n",
       "    </tr>\n",
       "    <tr>\n",
       "      <th>2</th>\n",
       "      <td>6rIkoZUkUe</td>\n",
       "      <td>-0.170802</td>\n",
       "      <td>0.571047</td>\n",
       "    </tr>\n",
       "    <tr>\n",
       "      <th>3</th>\n",
       "      <td>quVgpVq639</td>\n",
       "      <td>1.214204</td>\n",
       "      <td>1.418692</td>\n",
       "    </tr>\n",
       "    <tr>\n",
       "      <th>4</th>\n",
       "      <td>MYYwml5RZX</td>\n",
       "      <td>0.855391</td>\n",
       "      <td>-0.338424</td>\n",
       "    </tr>\n",
       "  </tbody>\n",
       "</table>\n",
       "</div>"
      ],
      "text/plain": [
       "            Z         A         B\n",
       "0  oU9YjpDdjI -2.660449 -1.424582\n",
       "1  Ij44MjvlYd -0.830475  1.068214\n",
       "2  6rIkoZUkUe -0.170802  0.571047\n",
       "3  quVgpVq639  1.214204  1.418692\n",
       "4  MYYwml5RZX  0.855391 -0.338424"
      ]
     },
     "execution_count": 11,
     "metadata": {},
     "output_type": "execute_result"
    }
   ],
   "source": [
    "treshold = len(df) * 0.9 #ambang batasnya (90%)\n",
    "df = df.dropna(thresh=treshold, axis ='columns')\n",
    "df.head()\n",
    "\n",
    "#Kalau persentase missing valuesnya masih \n",
    "#ditoleransi maka kolomnya tidak akan dibuang"
   ]
  }
 ],
 "metadata": {
  "kernelspec": {
   "display_name": "Python 3 (ipykernel)",
   "language": "python",
   "name": "python3"
  },
  "language_info": {
   "codemirror_mode": {
    "name": "ipython",
    "version": 3
   },
   "file_extension": ".py",
   "mimetype": "text/x-python",
   "name": "python",
   "nbconvert_exporter": "python",
   "pygments_lexer": "ipython3",
   "version": "3.9.7"
  }
 },
 "nbformat": 4,
 "nbformat_minor": 5
}
